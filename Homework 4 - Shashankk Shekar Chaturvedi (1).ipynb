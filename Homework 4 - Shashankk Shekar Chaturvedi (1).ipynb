{
 "cells": [
  {
   "cell_type": "markdown",
   "id": "ac19b859",
   "metadata": {},
   "source": [
    "# Homework 4 – Programming:\n",
    "\n",
    "In this programming problem, you will get familiar with building a neural network using backpropagation. You will write a program that learns how to recognize the handwritten digits using stochastic gradient descent and the MNIST training data.\n",
    "The MNIST database (Modified National Institute of Standards and Technology database is a large database of handwritten digits that is commonly used for training various image processing systems"
   ]
  },
  {
   "cell_type": "markdown",
   "id": "360c8517",
   "metadata": {},
   "source": [
    "### Step 1(a): Data Acquisition\n",
    "\n",
    "In this step, we will download the MNIST dataset and extract the files. The MNIST dataset is a large database of handwritten digits that is commonly used for training various image processing systems. The dataset is split into 60,000 training images and 10,000 testing images.\n",
    "\n",
    "Here’s the Python code to accomplish this task:"
   ]
  },
  {
   "cell_type": "code",
   "execution_count": 3,
   "id": "fdcc90ea",
   "metadata": {},
   "outputs": [
    {
     "name": "stdout",
     "output_type": "stream",
     "text": [
      "Shape of training images:  (60000, 28, 28)\n",
      "Shape of training labels:  (60000, 10)\n",
      "Shape of testing images:  (10000, 28, 28)\n",
      "Shape of testing labels:  (10000, 10)\n"
     ]
    }
   ],
   "source": [
    "# Import necessary libraries\n",
    "import numpy as np\n",
    "import math\n",
    "import time\n",
    "import gzip\n",
    "import struct\n",
    "\n",
    "# Function to read the MNIST dataset\n",
    "def load_data(filename):\n",
    "    with gzip.open(filename, 'rb') as f:\n",
    "        zero, data_type, dims = struct.unpack('>HBB', f.read(4))\n",
    "        shape = tuple(struct.unpack('>I', f.read(4))[0] for d in range(dims))\n",
    "        return np.frombuffer(f.read(), dtype=np.uint8).reshape(shape)\n",
    "\n",
    "# File paths\n",
    "train_images_file = 'MNIST/train-images-idx3-ubyte.gz'\n",
    "train_labels_file = 'MNIST/train-labels-idx1-ubyte.gz'\n",
    "test_images_file = 'MNIST/t10k-images-idx3-ubyte.gz'\n",
    "test_labels_file = 'MNIST/t10k-labels-idx1-ubyte.gz'\n",
    "\n",
    "# Load the data\n",
    "train_images = load_data(train_images_file)\n",
    "train_labels = load_data(train_labels_file)\n",
    "test_images = load_data(test_images_file)\n",
    "test_labels = load_data(test_labels_file)\n",
    "\n",
    "# Normalize the image data to [0, 1] range\n",
    "train_x = train_images.astype(np.float32) / 255\n",
    "test_x = test_images.astype(np.float32) / 255\n",
    "\n",
    "# One-hot encode the labels\n",
    "train_y = np.eye(10)[train_labels]\n",
    "test_y = np.eye(10)[test_labels]\n",
    "\n",
    "# Print the shapes\n",
    "print(\"Shape of training images: \", train_x.shape)\n",
    "print(\"Shape of training labels: \", train_y.shape)\n",
    "print(\"Shape of testing images: \", test_x.shape)\n",
    "print(\"Shape of testing labels: \", test_y.shape)"
   ]
  },
  {
   "cell_type": "markdown",
   "id": "283a9da2",
   "metadata": {},
   "source": [
    "#### Discussion for Step 1(a)\n",
    "\n",
    "In Step 1(a), we downloaded the MNIST dataset and extracted the files. The MNIST dataset is a large database of handwritten digits that is commonly used for training various image processing systems. The dataset is split into 60,000 training images and 10,000 testing images.\n",
    "\n",
    "We used a Python function to load the data from the files. This function opens the file, reads the header information to determine the dimensions of the data, and then reads the data itself. The data is reshaped into the correct dimensions and returned as a numpy array.\n",
    "\n",
    "After loading the data, we printed the shapes of the training and testing datasets. This gives us an idea of the size of the datasets we are working with."
   ]
  },
  {
   "cell_type": "markdown",
   "id": "f8405882",
   "metadata": {},
   "source": [
    "### Step 1(b): Data Visualization\n",
    "\n",
    "In this step, we will use the ‘matplotlib’ library to print out a random data with its label. This will help us understand what the dataset is.\n",
    "\n",
    "Here’s the Python code to accomplish this task:"
   ]
  },
  {
   "cell_type": "code",
   "execution_count": 4,
   "id": "72cb7374",
   "metadata": {},
   "outputs": [
    {
     "data": {
      "image/png": "[encoded data removed]",
      "text/plain": [
       "<Figure size 640x480 with 1 Axes>"
      ]
     },
     "metadata": {},
     "output_type": "display_data"
    }
   ],
   "source": [
    "# Import necessary library\n",
    "import matplotlib.pyplot as plt\n",
    "\n",
    "# Display a random image from the training set\n",
    "random_index = np.random.randint(train_images.shape[0])\n",
    "plt.title(\"Label: {}\".format(train_labels[random_index]))\n",
    "plt.imshow(train_images[random_index], cmap='gray')\n",
    "plt.show()"
   ]
  },
  {
   "cell_type": "markdown",
   "id": "7e674140",
   "metadata": {},
   "source": [
    "#### Discussion for Step 1(b)\n",
    "\n",
    "In Step 1(b), we visualized the data to get a better understanding of what we are working with. We used the ‘matplotlib’ library to display a random image from the training set along with its label.\n",
    "\n",
    "Visualizing the data is an important step in any machine learning project. It allows us to see what the data looks like and can give us insights into the nature of the problem we are trying to solve. In this case, seeing an example of a handwritten digit and its corresponding label helps us understand the task of recognizing handwritten digits."
   ]
  },
  {
   "cell_type": "markdown",
   "id": "882f0337",
   "metadata": {},
   "source": [
    "### Step 2(a): Normalize the pixel values of images\n",
    "\n",
    "In this step, we normalize the pixel values of the images to be between 0 and 1. Normalizing the pixel values helps in speeding up the training process and also prevents the model from getting stuck in local optima.\n",
    "\n",
    "Here’s the Python code to accomplish this task:"
   ]
  },
  {
   "cell_type": "code",
   "execution_count": 5,
   "id": "ab6b372d",
   "metadata": {},
   "outputs": [],
   "source": [
    "# Normalize pixel values\n",
    "train_images = train_images / 255.0\n",
    "test_images = test_images / 255.0"
   ]
  },
  {
   "cell_type": "markdown",
   "id": "5ed7b48a",
   "metadata": {},
   "source": [
    "This code simply divides all pixel values by 255 (since pixel values range from 0 to 255) to bring them into the range [0,1].\n",
    "\n",
    "### Discussion for Step 2(a):-\n",
    "\n",
    "Normalizing the pixel values of the images is an important preprocessing step in many machine learning algorithms. In the context of image data, pixel values are usually integers in the range [0, 255]. By dividing each pixel value by 255, we scale the data to the range [0, 1]. This can make the optimization process more efficient, as it can help the algorithm converge faster."
   ]
  },
  {
   "cell_type": "markdown",
   "id": "3dcd7b54",
   "metadata": {},
   "source": [
    "### Step 2(b): One-Hot Encoding\n",
    "\n",
    "In this step, we convert the labels from categorical data into numerical values using one-hot encoding. One-hot encoding is a process of converting categorical data variables so they can be provided to machine learning algorithms to improve predictions. With one-hot, we convert each categorical value into a new categorical value and assign a binary value of 1 or 0. Each integer value is represented as a binary vector. All the values are zero, and the index is marked with a 1."
   ]
  },
  {
   "cell_type": "code",
   "execution_count": 6,
   "id": "55277d28",
   "metadata": {},
   "outputs": [],
   "source": [
    "# Function to perform one-hot encoding\n",
    "def one_hot_encode(y):\n",
    "    n = np.max(y) + 1\n",
    "    return np.eye(n)[y]\n",
    "\n",
    "# Perform one-hot encoding on the labels\n",
    "train_labels = one_hot_encode(train_labels)\n",
    "test_labels = one_hot_encode(test_labels)"
   ]
  },
  {
   "cell_type": "markdown",
   "id": "13cea3f6",
   "metadata": {},
   "source": [
    "### Discussion for Step 2(b):-\n",
    "\n",
    "One-hot encoding is a common technique used for dealing with categorical data in machine learning. In this step, I’ve performed one-hot encoding on the labels. One-hot encoding is a process of converting categorical data variables so they can be provided to machine learning algorithms to improve predictions. With one-hot encoding, we convert each categorical value into a new categorical column and assign a binary value of 1 or 0. Each integer value is represented as a binary vector. This is crucial when we are dealing with categorical data like labels in classification problems."
   ]
  },
  {
   "cell_type": "markdown",
   "id": "8d5dc986",
   "metadata": {},
   "source": [
    "### Step 3(a): Implement a neural network model with one hidden layer\n",
    "\n",
    "In this step, we will implement a neural network model with one hidden layer. The hidden layer will have 64 neurons. We will use the Sigmoid function as the activation function for the hidden layer."
   ]
  },
  {
   "cell_type": "code",
   "execution_count": 19,
   "id": "5bfaf8cc",
   "metadata": {},
   "outputs": [],
   "source": [
    "# Sigmoid function\n",
    "def sigmoid(x):\n",
    "    return 1 / (1 + np.exp(-x))\n",
    "\n",
    "# Sigmoid derivative function for backpropagation\n",
    "def sigmoid_derivative(x):\n",
    "    return sigmoid(x) * (1 - sigmoid(x))\n",
    "\n",
    "def softmax(Z):\n",
    "    expZ = np.exp(Z - np.max(Z))\n",
    "    return expZ / expZ.sum(axis=1, keepdims=True)"
   ]
  },
  {
   "cell_type": "markdown",
   "id": "a8f6c8ca",
   "metadata": {},
   "source": [
    "This code defines the sigmoid function and its derivative. The sigmoid function is used as the activation function in the hidden layer of the neural network. The derivative of the sigmoid function is used during the backpropagation step to update the weights."
   ]
  },
  {
   "cell_type": "markdown",
   "id": "983dc911",
   "metadata": {},
   "source": [
    "### Discussion for Step 3(a)\n",
    "\n",
    "1. **Sigmoid Function**: The sigmoid function is an activation function that is used in neural networks to introduce non-linearity in the model. It maps any input value into a range between 0 and 1. This can be particularly useful when we want to predict probabilities, which naturally fall into this range. Mathematically, the sigmoid function is represented as:\n",
    "\n",
    "    $$\\sigma(x) = \\frac{1}{1 + e^{-x}}$$\n",
    "\n",
    "    Here, `x` is the input to the function. The sigmoid function outputs a value between 0 and 1, which can be interpreted as a probability.\n",
    "\n",
    "2. **Sigmoid Derivative Function**: This function calculates the derivative of the sigmoid function. The derivative of the sigmoid function is used during the backpropagation step of training a neural network. It is used to calculate the gradients of the loss function with respect to the parameters of the model. The derivative of the sigmoid function can be represented as:\n",
    "\n",
    "    $$\\sigma'(x) = \\sigma(x) \\cdot (1 - \\sigma(x))$$\n",
    "\n",
    "    Here, `x` is the input to the function. The derivative at a certain point gives the slope of the sigmoid function at that point, which indicates how much the output would change with a small change in the input.\n",
    "\n",
    "3. **Softmax Function**: The softmax function is another type of activation function that is often used in the output layer of a neural network for multi-class classification problems. It maps a vector of real numbers to a vector of probabilities that add up to 1. This means that the output of the softmax function can be interpreted as a probability distribution over the classes. The softmax function is represented as:\n",
    "\n",
    "    $$\\text{softmax}(z_i) = \\frac{e^{z_i}}{\\sum_{j=1}^{K} e^{z_j}}$$\n",
    "\n",
    "    Here, `z_i` is the i-th element of the input vector `Z`, and `K` is the total number of classes. The softmax function ensures that the sum of the output probabilities is 1, which makes it suitable for multi-class classification problems.\n",
    "\n",
    "I hope this provides a clear explanation of these functions! If you have any further questions, feel free to ask. I'm here to help! 😊"
   ]
  },
  {
   "cell_type": "markdown",
   "id": "cdef35da",
   "metadata": {},
   "source": [
    "### Step 3(b): Initialize all the parameters in the neural network uniformly\n",
    "\n",
    "In this step, we will initialize all the parameters in the neural network uniformly. The input size is 784 dimensions (each input is a 28x28 image, so we have to flatten the data from 2D to 1D). For the two linear hidden layers, we have 128 and 64 neurons respectively. For the output layer, its size will be 10 since there are 10 classes (0-9) in MNIST.\n",
    "\n",
    "Here’s the Python code to accomplish this task:"
   ]
  },
  {
   "cell_type": "code",
   "execution_count": 8,
   "id": "96adc626",
   "metadata": {},
   "outputs": [],
   "source": [
    "# Set the seed value\n",
    "np.random.seed(695)\n",
    "\n",
    "# Function to initialize parameters uniformly\n",
    "def initialize_parameters_uniform(input_size, hidden1_size, hidden2_size, output_size):\n",
    "    W1 = np.random.uniform(low=-0.1, high=0.1, size=(input_size, hidden1_size))\n",
    "    b1 = np.zeros((1, hidden1_size))\n",
    "    W2 = np.random.uniform(low=-0.1, high=0.1, size=(hidden1_size, hidden2_size))\n",
    "    b2 = np.zeros((1, hidden2_size))\n",
    "    W3 = np.random.uniform(low=-0.1, high=0.1, size=(hidden2_size, output_size))\n",
    "    b3 = np.zeros((1, output_size))\n",
    "    parameters = {\"W1\": W1, \"b1\": b1, \"W2\": W2, \"b2\": b2, \"W3\": W3, \"b3\": b3}\n",
    "    return parameters\n",
    "\n",
    "# Initialize parameters\n",
    "input_layer = 784\n",
    "hidden_layer1 = 128\n",
    "hidden_layer2 = 64\n",
    "output_layer = 10\n",
    "parameters = initialize_parameters_uniform(input_layer, hidden_layer1, hidden_layer2, output_layer)"
   ]
  },
  {
   "cell_type": "markdown",
   "id": "dd62f2dc",
   "metadata": {},
   "source": [
    "This code first sets the seed value for the random number generator to ensure that we get the same results every time we run the code. It then defines a function to initialize the weights and biases for each layer in the neural network uniformly. The function returns a dictionary containing the weights and biases for each layer."
   ]
  },
  {
   "cell_type": "markdown",
   "id": "8883a1c0",
   "metadata": {},
   "source": [
    "### Discussion for Step 3(b)\n",
    "\n",
    "In this part of the code, I'm setting up the initial parameters for my neural network model. \n",
    "\n",
    "Firstly, I set a seed value for the random number generator using `np.random.seed(695)`. Setting a seed ensures that the random numbers generated are the same every time the code is run. This is important for reproducibility of results.\n",
    "\n",
    "Next, I define a function `initialize_parameters_uniform` to initialize the weights and biases for the neural network. The weights are initialized with small random values from a uniform distribution between -0.1 and 0.1. Initializing the weights with small random values helps to break symmetry and ensures that different neurons learn different features. The biases are initialized to zeros.\n",
    "\n",
    "The function takes as input the sizes of the input layer, two hidden layers, and the output layer, and returns a dictionary containing the initialized parameters. The parameters include:\n",
    "\n",
    "- `W1`, `W2`, `W3`: Weight matrices for the input layer, first hidden layer, and second hidden layer respectively. Each matrix is of size `(previous_layer_size, current_layer_size)`.\n",
    "- `b1`, `b2`, `b3`: Bias vectors for the first hidden layer, second hidden layer, and output layer respectively. Each bias vector is of size `(1, current_layer_size)`.\n",
    "\n",
    "Finally, I call this function to initialize the parameters for my specific neural network architecture. The architecture consists of an input layer of size 784 (since each image is 28x28 pixels), two hidden layers of sizes 128 and 64, and an output layer of size 10 (since there are 10 classes of digits). The initialized parameters are stored in the `parameters` variable, which will be updated during the training process. "
   ]
  },
  {
   "cell_type": "markdown",
   "id": "8d64e2b4",
   "metadata": {},
   "source": [
    "### Step 4: Define a function named feed_forward\n",
    "\n",
    "In this step, we will define a function named feed_forward. Given an input x, it should output the sigmoid of wx+b where w and b indicate the weights and bias defined in step 2.\n",
    "\n",
    "Here’s the Python code to accomplish this task:"
   ]
  },
  {
   "cell_type": "code",
   "execution_count": 9,
   "id": "25ceba57",
   "metadata": {},
   "outputs": [],
   "source": [
    "def feed_forward(X, parameters):\n",
    "    '''\n",
    "    Propagates the input X in the neural network in the forward\n",
    "    direction using the parameters. It also generates the\n",
    "    forward cache to store the Inputs Z on outputs A of\n",
    "    every layer in the NN architecture.\n",
    "    '''\n",
    "    # Storing the inputs Z of each layer in the cache.\n",
    "    # Storing the activations A of each layer\n",
    "    forward_cache = {}\n",
    "    \n",
    "    # Z = X.W + b\n",
    "    # A = S(z)\n",
    "    \n",
    "    # Flatten the input data\n",
    "    X = X.reshape(X.shape[0], -1)\n",
    "        \n",
    "    # Hidden layer 1:\n",
    "    Z1 = X.dot(parameters['W1']) + parameters['b1']       # Input to hidden Layer\n",
    "    A1 = sigmoid(Z1)    # Output of the hidden layer\n",
    "    forward_cache[\"Z1\"] = Z1\n",
    "    forward_cache[\"A1\"] = A1\n",
    "\n",
    "    # Hidden layer 2:\n",
    "    Z2 = A1.dot(parameters['W2']) + parameters['b2']       \n",
    "    A2 = sigmoid(Z2)\n",
    "    forward_cache[\"Z2\"] = Z2\n",
    "    forward_cache[\"A2\"] = A2\n",
    "\n",
    "    # Output layer:\n",
    "    Z3 = A2.dot(parameters['W3']) + parameters['b3']       \n",
    "    A3 = softmax(Z3)\n",
    "    forward_cache[\"Z3\"] = Z3\n",
    "    forward_cache[\"A3\"] = A3\n",
    "\n",
    "    return A3, forward_cache"
   ]
  },
  {
   "cell_type": "markdown",
   "id": "5c2d29fb",
   "metadata": {},
   "source": [
    "This code defines a function feed_forward that takes as input the data X and the parameters of the neural network. It computes the inputs Z and outputs A for each layer in the neural network and stores them in a cache. The function returns the output of the last layer and the cache.\n",
    "\n",
    "### Discussion for Step 4\n",
    "\n",
    "The `feed_forward` function is responsible for the forward propagation step of the neural network. It takes the input data `X` and the parameters of the network, and computes the output of the network. It also stores the intermediate values in a cache for use in the backward propagation step.\n",
    "\n",
    "1. **Flatten the input data**: The input data `X` is reshaped to ensure it's in the correct format for the matrix operations that follow. This is necessary because the images in the dataset are 2D, but we need to flatten them into 1D vectors to perform the matrix operations.\n",
    "\n",
    "2. **Hidden layer 1**: The input data is passed through the first hidden layer of the network. The input to the layer (`Z1`) is calculated by performing a dot product between the input data and the weights of the first layer, and then adding the bias. The output of the layer (`A1`) is calculated by applying the sigmoid activation function to `Z1`. Both `Z1` and `A1` are stored in the cache.\n",
    "\n",
    "3. **Hidden layer 2**: The output from the first hidden layer is passed through the second hidden layer. The process is similar to the first hidden layer, but this time the input is `A1`, and the weights and bias are those of the second layer. The output `A2` is again calculated using the sigmoid activation function, and `Z2` and `A2` are stored in the cache.\n",
    "\n",
    "4. **Output layer**: The output from the second hidden layer is passed through the output layer of the network. The process is similar to the hidden layers, but this time the input is `A2`, and the weights and bias are those of the output layer. The output `A3` is calculated using the softmax activation function, which is commonly used for multi-class classification problems as it gives a probability distribution over the classes. `Z3` and `A3` are stored in the cache.\n",
    "\n",
    "The function then returns `A3`, which is the output of the network and represents the probabilities of each class for each input, and `forward_cache`, which contains the intermediate values needed for the backward propagation step."
   ]
  },
  {
   "cell_type": "markdown",
   "id": "3a9296ca",
   "metadata": {},
   "source": [
    "### Step 5(a): Compute the loss for the output layer\n",
    "\n",
    "In this step, we will compute the loss for the output layer using the categorical cross entropy loss function. This is a common loss function for multi-class classification problems.\n",
    "\n",
    "Here’s the Python code to accomplish this task:"
   ]
  },
  {
   "cell_type": "code",
   "execution_count": 10,
   "id": "463aafc8",
   "metadata": {},
   "outputs": [],
   "source": [
    "def categorical_cross_entropy(y_true, y_pred):\n",
    "    m_samples = y_true.shape[0]\n",
    "    y_pred_clipped = np.clip(y_pred, 1e-12, 1 - 1e-12)\n",
    "    return -np.sum(y_true * np.log(y_pred_clipped))/m_samples"
   ]
  },
  {
   "cell_type": "markdown",
   "id": "fb2625c4",
   "metadata": {},
   "source": [
    "### Discussion for Step 5(a):-\n",
    "\n",
    "This function calculates the categorical cross-entropy loss, which is commonly used in multi-class classification problems.\n",
    "\n",
    "1. **Number of samples**: The variable `m_samples` is assigned the number of samples in the true labels `y_true`. This is done by getting the shape (i.e., the dimensions) of `y_true` and taking the first element, which represents the number of samples.\n",
    "\n",
    "2. **Clipping the predicted values**: The predicted values `y_pred` are clipped to a range between `1e-12` and `1 - 1e-12` using the `np.clip` function. This is done to avoid taking the logarithm of `0` or `1` in the next step, which would result in `-inf` or `nan` values.\n",
    "\n",
    "3. **Calculating the loss**: The categorical cross-entropy loss is calculated by first multiplying the true labels `y_true` with the logarithm of the clipped predicted values `y_pred_clipped`. This is done element-wise, meaning that each element in `y_true` is multiplied with the corresponding element in `np.log(y_pred_clipped)`. The result is a matrix of the same shape as `y_true` and `y_pred_clipped`, where each element represents the loss for one sample and one class.\n",
    "\n",
    "4. **Averaging the loss**: The loss values calculated in the previous step are summed up using `np.sum`, resulting in a single scalar value. This value is then divided by the number of samples `m_samples` to get the average loss across all samples.\n",
    "\n",
    "The function then returns this average loss, which is a measure of how well the model's predictions match the true labels. The lower the loss, the better the model's predictions."
   ]
  },
  {
   "cell_type": "markdown",
   "id": "fe1e8fe6",
   "metadata": {},
   "source": [
    "### Step 5(b): Calculate the gradients for the weights and bias for each layer\n",
    "    \n",
    "In this step, we will calculate the gradients for the weights and bias for each layer. We will use the chain rule to compute gradients for previous layers.\n",
    "\n",
    "Here’s the Python code to accomplish this task:"
   ]
  },
  {
   "cell_type": "code",
   "execution_count": 11,
   "id": "3ee04ace",
   "metadata": {},
   "outputs": [],
   "source": [
    "def back_propagation(x, y, parameters, cache):\n",
    "    m = x.shape[0]\n",
    "    grads = {}\n",
    "    loss = categorical_cross_entropy(y, cache[\"A3\"])\n",
    "    \n",
    "    W1 = parameters['W1']\n",
    "    W2 = parameters['W2']\n",
    "    W3 = parameters['W3']\n",
    "    \n",
    "    last_output =  cache[\"A3\"]\n",
    "    hidden2_output = cache[\"A2\"]\n",
    "    hidden1_output = cache[\"A1\"] \n",
    "\n",
    "    output_error = (last_output - y)   \n",
    "    hidden2_error = np.dot(output_error, W3.T) * sigmoid_derivative(cache[\"Z2\"])\n",
    "    hidden1_error = np.dot(hidden2_error, W2.T) * sigmoid_derivative(cache[\"Z1\"])\n",
    "    \n",
    "    # Flatten the input data\n",
    "    x = x.reshape(x.shape[0], -1)\n",
    "    \n",
    "    grads = {\n",
    "        'dW3': np.dot(hidden2_output.T, output_error)/m,\n",
    "        'db3': np.sum(output_error, axis=0, keepdims=True)/m,\n",
    "        'dW2': np.dot(hidden1_output.T, hidden2_error)/m,\n",
    "        'db2': np.sum(hidden2_error, axis=0, keepdims=True)/m,\n",
    "        'dW1': np.dot(x.T, hidden1_error) / m,\n",
    "        'db1': np.sum(hidden1_error, axis=0, keepdims=True)/m\n",
    "    }\n",
    "\n",
    "    return grads, loss\n"
   ]
  },
  {
   "cell_type": "markdown",
   "id": "f79f61a1",
   "metadata": {},
   "source": [
    "### Discussion for Step 5(b):-\n",
    "\n",
    "This function is responsible for the backward propagation step of the neural network, which calculates the gradients of the loss with respect to the parameters of the network. Here's a detailed explanation:\n",
    "\n",
    "1. **Number of samples**: The variable `m` is assigned the number of samples in the input data `x`. This is done by getting the shape (i.e., the dimensions) of `x` and taking the first element, which represents the number of samples.\n",
    "\n",
    "2. **Calculate the loss**: The loss is calculated using the `categorical_cross_entropy` function, which takes the true labels `y` and the output of the network `cache[\"A3\"]` as inputs.\n",
    "\n",
    "3. **Retrieve parameters and cache**: The parameters `W1`, `W2`, and `W3` are retrieved from the `parameters` dictionary, and the outputs `A1`, `A2`, and `A3` of the hidden layers and the output layer are retrieved from the `cache`.\n",
    "\n",
    "4. **Calculate errors**: The error of the output layer `output_error` is calculated as the difference between the output of the network and the true labels. The errors of the hidden layers `hidden2_error` and `hidden1_error` are calculated by backpropagating the error from the subsequent layer, multiplying it with the transpose of the weights of the subsequent layer, and applying the derivative of the sigmoid activation function. This is done because the sigmoid function was used as the activation function in the hidden layers.\n",
    "\n",
    "5. **Flatten the input data**: The input data `x` is reshaped to ensure it's in the correct format for the matrix operations that follow. This is necessary because the images in the dataset are 2D, but we need to flatten them into 1D vectors to perform the matrix operations.\n",
    "\n",
    "6. **Calculate gradients**: The gradients of the weights and biases with respect to the loss are calculated. This is done by taking the dot product of the transpose of the output of the previous layer and the error of the current layer, and dividing by the number of samples. The gradients are stored in the `grads` dictionary.\n",
    "\n",
    "The function then returns `grads`, which contains the gradients of the parameters, and `loss`, which is the value of the loss function. These can be used to update the parameters of the network in the gradient descent step."
   ]
  },
  {
   "cell_type": "markdown",
   "id": "84e8aadd",
   "metadata": {},
   "source": [
    "### Step 6(a): Use mini-batch gradient descent to update the parameters\n",
    "\n",
    "In this step, we will use mini-batch gradient descent to update the parameters including weights and bias. A complete training round consists of a feed forward process, back propagation, and parameter update.\n",
    "\n",
    "Here’s the Python code to accomplish this task:"
   ]
  },
  {
   "cell_type": "code",
   "execution_count": 12,
   "id": "e19eed9e",
   "metadata": {},
   "outputs": [],
   "source": [
    "def update_parameters(parameters, grads, learning_rate = 0.01):\n",
    "    '''\n",
    "    Simple function that takes input the parameters, and gradients along \n",
    "    with a learning rate to update the parameters.\n",
    "    '''    \n",
    "    parameters['W1'] -= learning_rate * grads['dW1']\n",
    "    parameters['b1'] -= learning_rate * grads['db1']\n",
    "    parameters['W2'] -= learning_rate * grads['dW2']\n",
    "    parameters['b2'] -= learning_rate * grads['db2']\n",
    "    parameters['W3'] -= learning_rate * grads['dW3']\n",
    "    parameters['b3'] -= learning_rate * grads['db3']\n",
    "\n",
    "    return parameters"
   ]
  },
  {
   "cell_type": "markdown",
   "id": "2e5591a6",
   "metadata": {},
   "source": [
    "### Discussion for Step 6(a):-\n",
    "\n",
    "This function is responsible for updating the parameters of the neural network using the gradients calculated in the backward propagation step and a learning rate.\n",
    "\n",
    "1. **Input parameters**: The function takes as input the current parameters of the network (`parameters`), the gradients of the parameters (`grads`), and a learning rate (`learning_rate`).\n",
    "\n",
    "2. **Update weights and biases**: The function updates each weight and bias in the `parameters` dictionary by subtracting the product of the learning rate and the corresponding gradient. This is done for the weights and biases of all layers (`W1`, `b1`, `W2`, `b2`, `W3`, `b3`). The learning rate determines the size of the steps we take to reach a (local) minimum. In other words, it controls how much we are adjusting the weights of our network with respect to the loss gradient.\n",
    "\n",
    "3. **Return updated parameters**: The function then returns the updated parameters, which will be used in the next forward propagation step.\n",
    "\n",
    "This process is repeated for each mini-batch of the dataset, which is why this method is known as mini-batch gradient descent. The advantage of using mini-batches is that it can lead to faster convergence and can prevent the algorithm from getting stuck in local minima. It's a balance between the efficiency of batch gradient descent and the robustness of stochastic gradient descent. "
   ]
  },
  {
   "cell_type": "code",
   "execution_count": 13,
   "id": "364c0f6b",
   "metadata": {},
   "outputs": [],
   "source": [
    "# New Step: Define the accuracy function\n",
    "def __accuracy(parameters, X, y):\n",
    "    '''\n",
    "    Function to calculate the accuracy of the model.\n",
    "    It takes the parameters, input data X and the true labels y.\n",
    "    It calculates the predicted labels and compares them with the true labels to calculate the accuracy.\n",
    "    '''\n",
    "    # Forward propagation\n",
    "    output, _ = feed_forward(X, parameters)\n",
    "    \n",
    "    # Convert probabilities to class labels\n",
    "    y_pred = np.argmax(output, axis=1)\n",
    "    y_true = np.argmax(y, axis=1)\n",
    "    \n",
    "    # Calculate accuracy\n",
    "    accuracy = np.mean(y_pred == y_true)\n",
    "    \n",
    "    return accuracy, y_pred"
   ]
  },
  {
   "cell_type": "markdown",
   "id": "e7ff8ebb",
   "metadata": {},
   "source": [
    "### Discussion for 6(a):-\n",
    "\n",
    "This function is responsible for calculating the accuracy of the model's predictions. \n",
    "\n",
    "1. **Input parameters**: The function takes as input the current parameters of the network (`parameters`), the input data (`X`), and the true labels (`y`).\n",
    "\n",
    "2. **Forward propagation**: The function performs a forward propagation step using the `feed_forward` function, which takes the input data and the parameters as inputs. The output of the network is stored in the `output` variable.\n",
    "\n",
    "3. **Convert probabilities to class labels**: The function then converts the output probabilities to class labels. This is done by taking the index of the maximum value along axis 1 (i.e., the row axis) of the output and the true labels. This is because the output of the network is a probability distribution over the classes, and the class with the highest probability is taken as the predicted class. The true labels are also converted to class labels in the same way.\n",
    "\n",
    "4. **Calculate accuracy**: The function then calculates the accuracy of the model's predictions. This is done by comparing the predicted labels (`y_pred`) with the true labels (`y_true`) and calculating the mean of the comparisons. This gives the proportion of correct predictions, which is the accuracy of the model.\n",
    "\n",
    "5. **Return accuracy and predicted labels**: The function then returns the accuracy and the predicted labels. The accuracy can be used to monitor the performance of the model during training, and the predicted labels can be used for further analysis or evaluation of the model.\n",
    "\n",
    "The goal of a classification model is to make accurate predictions on new, unseen data. Therefore, the accuracy of the model on the validation or test set is a good indicator of how well the model will perform in practice. It's important to monitor the accuracy during training to ensure that the model is learning effectively. If the accuracy on the training set is much higher than on the validation set, it could be a sign that the model is overfitting to the training data and might not perform well on new data. Conversely, if the accuracy is low on both sets, it could be a sign that the model is underfitting and not complex enough to capture the patterns in the data. In both cases, adjustments might need to be made to the model or the training process."
   ]
  },
  {
   "cell_type": "markdown",
   "id": "8887a41a",
   "metadata": {},
   "source": [
    "### Step 6(b): Implement the mini-batch gradient descent\n",
    "\n",
    "In this step, we will implement the mini-batch gradient descent. Mini-batch gradient descent is a variant of gradient descent that computes the gradient and updates the parameters using a mini-batch of samples instead of the entire dataset. This can make the training process faster and less memory-intensive."
   ]
  },
  {
   "cell_type": "code",
   "execution_count": 20,
   "id": "b15500cd",
   "metadata": {},
   "outputs": [],
   "source": [
    "def mini_batch_gradient_descent(X_train, y_train, test_x, test_y, parameters, learning_rate=0.01, epochs=100, batch_size=128):\n",
    "    '''\n",
    "    A function to train the model, learn the network weights/parameters.\n",
    "    This function uses the mini-batch Gradient Descent (GD) Algorithm.\n",
    "    It takes the training samples shuffles them and splits them into mini-batches\n",
    "    each of size batch_size and then trains the network on each batch.\n",
    "    Once all the mini-batches that make up the entire training set is run, it progresses an epoch or iteration.\n",
    "    '''\n",
    "    \n",
    "    m = X_train.shape[0]\n",
    "    batches = []\n",
    "    Costs_per_epoch = np.zeros(epochs)\n",
    "    \n",
    "    # Create mini-batch indices\n",
    "    for batch_start in range(0, m, batch_size):\n",
    "        batch_end = batch_start + batch_size\n",
    "        batches.append((batch_start, batch_end))\n",
    "    \n",
    "    print(f\"Total No. Of Batches:{len(batches)}\")\n",
    "    \n",
    "    for epoch in range(epochs):\n",
    "        starttime = time.time()\n",
    "        \n",
    "        # Shuffling the batch indices every Epoch\n",
    "        permutation = list(np.random.permutation(m))\n",
    "        X_shuffled = X_train[permutation,:]\n",
    "        Y_shuffled = y_train[permutation,:]\n",
    "\n",
    "        epoch_loss = 0;\n",
    "        for (start, end) in batches:\n",
    "            X_batch = X_shuffled[start:end,:]\n",
    "            y_batch = Y_shuffled[start:end,:]\n",
    "            \n",
    "            # Forward propagation\n",
    "            output, cache = feed_forward(X_batch, parameters)\n",
    "            \n",
    "            # Backward propagation\n",
    "            grads, loss = back_propagation(X_batch, y_batch, parameters, cache)\n",
    "            epoch_loss += loss\n",
    "\n",
    "            # Update parameters\n",
    "            parameters = update_parameters(parameters, grads, learning_rate)\n",
    "\n",
    "        # Calculate epoch report for monitoring\n",
    "        elapsed = time.time() - starttime\n",
    "        test_pred, _ = feed_forward(test_x, parameters)\n",
    "        Costs_per_epoch[epoch] = epoch_loss / (math.ceil(m/batch_size)) #mean cost of all the batches resembles closer to the actual cost of the whole sample set\n",
    "        accuracy, _ = __accuracy(parameters, test_x, test_y)\n",
    "        \n",
    "        print(f\"Epoch {epoch + 1}/{epochs}, time: {elapsed:.2f}s, Loss: {Costs_per_epoch[epoch]:.4f}, Acc: {accuracy*100:.2f}%\")\n",
    "\n",
    "    print(f\"\\nRan All Epochs\")\n",
    "    return parameters, Costs_per_epoch"
   ]
  },
  {
   "cell_type": "markdown",
   "id": "10c551e5",
   "metadata": {},
   "source": [
    "### Discussion for 6(b):-\n",
    "\n",
    "Here, this function is responsible for training the neural network using the mini-batch gradient descent algorithm.\n",
    "\n",
    "1. **Input parameters**: The function takes as input the training data (`X_train`, `y_train`), the test data (`test_x`, `test_y`), the current parameters of the network (`parameters`), a learning rate (`learning_rate`), the number of epochs (`epochs`), and a batch size (`batch_size`).\n",
    "\n",
    "2. **Initialize variables**: The function initializes a list `batches` to store the indices of the mini-batches, and an array `Costs_per_epoch` to store the loss for each epoch.\n",
    "\n",
    "3. **Create mini-batch indices**: The function creates the indices for the mini-batches by looping over the range from `0` to `m` (the number of training samples) in steps of `batch_size`. For each step, it appends a tuple of the start and end indices to the `batches` list.\n",
    "\n",
    "4. **Loop over epochs**: The function then enters a loop over the number of epochs. For each epoch, it does the following:\n",
    "\n",
    "    - **Shuffle the data**: The function shuffles the indices of the training data and uses these shuffled indices to create shuffled versions of the input data and the true labels.\n",
    "\n",
    "    - **Loop over mini-batches**: The function then enters a loop over the mini-batches. For each mini-batch, it does the following:\n",
    "\n",
    "        - **Extract mini-batch**: The function extracts the mini-batch from the shuffled data and labels.\n",
    "\n",
    "        - **Forward propagation**: The function performs a forward propagation step using the `feed_forward` function, which takes the mini-batch and the parameters as inputs. The output of the network is stored in the `output` variable.\n",
    "\n",
    "        - **Backward propagation**: The function performs a backward propagation step using the `back_propagation` function, which takes the mini-batch, the true labels, the parameters, and the cache from the forward propagation step as inputs. The gradients and the loss are stored in the `grads` and `loss` variables, respectively.\n",
    "\n",
    "        - **Update parameters**: The function updates the parameters using the `update_parameters` function, which takes the parameters, the gradients, and the learning rate as inputs.\n",
    "\n",
    "    - **Calculate epoch report**: After all mini-batches have been processed, the function calculates the elapsed time for the epoch, the average loss for the epoch, and the accuracy of the model on the test data. It then prints this information for monitoring purposes.\n",
    "\n",
    "5. **Return updated parameters and losses**: After all epochs have been completed, the function returns the updated parameters and the losses for each epoch.\n",
    "\n",
    "All in all, think of this function as the mastermind behind the mini-batch gradient descent algorithm. It’s like a clever twist on the classic gradient descent algorithm. Instead of using just one sample (like stochastic gradient descent) or going all out with every single sample (like batch gradient descent), it strikes a balance. It picks a mini-batch of samples at each step for updating the parameters.\n",
    "\n",
    "This approach has its perks! It can speed up the convergence and also helps avoid getting trapped in those pesky local minima. It’s like having the best of both worlds - the efficiency of batch gradient descent and the robustness of stochastic gradient descent.\n",
    "\n",
    "And here’s the fun part - you can play around with the size of these mini-batches. It’s a hyperparameter that we can tune to get the algorithm performing just the way we want."
   ]
  },
  {
   "cell_type": "code",
   "execution_count": 15,
   "id": "c66d63e4",
   "metadata": {},
   "outputs": [
    {
     "name": "stdout",
     "output_type": "stream",
     "text": [
      "Total No. Of Batches:469\n",
      "Epoch 1/100, time: 8.33s, Loss: 1.7517, Acc: 74.42%\n",
      "Epoch 2/100, time: 3.94s, Loss: 0.6159, Acc: 87.31%\n",
      "Epoch 3/100, time: 5.42s, Loss: 0.4042, Acc: 89.78%\n",
      "Epoch 4/100, time: 4.19s, Loss: 0.3381, Acc: 90.89%\n",
      "Epoch 5/100, time: 3.94s, Loss: 0.3010, Acc: 92.04%\n",
      "Epoch 6/100, time: 3.70s, Loss: 0.2722, Acc: 92.63%\n",
      "Epoch 7/100, time: 4.59s, Loss: 0.2476, Acc: 92.78%\n",
      "Epoch 8/100, time: 5.45s, Loss: 0.2267, Acc: 93.74%\n",
      "Epoch 9/100, time: 4.53s, Loss: 0.2079, Acc: 94.18%\n",
      "Epoch 10/100, time: 4.28s, Loss: 0.1923, Acc: 94.41%\n",
      "Epoch 11/100, time: 5.31s, Loss: 0.1783, Acc: 95.02%\n",
      "Epoch 12/100, time: 4.10s, Loss: 0.1661, Acc: 95.15%\n",
      "Epoch 13/100, time: 5.31s, Loss: 0.1548, Acc: 95.28%\n",
      "Epoch 14/100, time: 3.70s, Loss: 0.1455, Acc: 95.62%\n",
      "Epoch 15/100, time: 3.70s, Loss: 0.1366, Acc: 95.94%\n",
      "Epoch 16/100, time: 4.38s, Loss: 0.1288, Acc: 96.04%\n",
      "Epoch 17/100, time: 5.80s, Loss: 0.1219, Acc: 95.94%\n",
      "Epoch 18/100, time: 3.83s, Loss: 0.1154, Acc: 96.14%\n",
      "Epoch 19/100, time: 3.79s, Loss: 0.1093, Acc: 96.37%\n",
      "Epoch 20/100, time: 3.87s, Loss: 0.1038, Acc: 96.53%\n",
      "Epoch 21/100, time: 6.00s, Loss: 0.0994, Acc: 96.58%\n",
      "Epoch 22/100, time: 3.65s, Loss: 0.0945, Acc: 96.86%\n",
      "Epoch 23/100, time: 6.52s, Loss: 0.0905, Acc: 96.93%\n",
      "Epoch 24/100, time: 3.71s, Loss: 0.0863, Acc: 96.92%\n",
      "Epoch 25/100, time: 5.86s, Loss: 0.0825, Acc: 97.02%\n",
      "Epoch 26/100, time: 3.84s, Loss: 0.0791, Acc: 96.97%\n",
      "Epoch 27/100, time: 3.55s, Loss: 0.0757, Acc: 97.13%\n",
      "Epoch 28/100, time: 6.09s, Loss: 0.0726, Acc: 97.09%\n",
      "Epoch 29/100, time: 4.70s, Loss: 0.0701, Acc: 97.35%\n",
      "Epoch 30/100, time: 7.11s, Loss: 0.0670, Acc: 97.39%\n",
      "Epoch 31/100, time: 29.72s, Loss: 0.0644, Acc: 97.32%\n",
      "Epoch 32/100, time: 14.45s, Loss: 0.0619, Acc: 97.36%\n",
      "Epoch 33/100, time: 14.79s, Loss: 0.0596, Acc: 97.39%\n",
      "Epoch 34/100, time: 14.93s, Loss: 0.0574, Acc: 97.47%\n",
      "Epoch 35/100, time: 11.67s, Loss: 0.0551, Acc: 97.53%\n",
      "Epoch 36/100, time: 5.85s, Loss: 0.0530, Acc: 97.65%\n",
      "Epoch 37/100, time: 13.02s, Loss: 0.0512, Acc: 97.70%\n",
      "Epoch 38/100, time: 10.80s, Loss: 0.0494, Acc: 97.69%\n",
      "Epoch 39/100, time: 11.46s, Loss: 0.0476, Acc: 97.68%\n",
      "Epoch 40/100, time: 16.40s, Loss: 0.0460, Acc: 97.82%\n",
      "Epoch 41/100, time: 4.04s, Loss: 0.0443, Acc: 97.69%\n",
      "Epoch 42/100, time: 3.74s, Loss: 0.0426, Acc: 97.86%\n",
      "Epoch 43/100, time: 5.83s, Loss: 0.0413, Acc: 97.78%\n",
      "Epoch 44/100, time: 4.78s, Loss: 0.0399, Acc: 97.71%\n",
      "Epoch 45/100, time: 3.97s, Loss: 0.0384, Acc: 97.76%\n",
      "Epoch 46/100, time: 4.17s, Loss: 0.0370, Acc: 97.82%\n",
      "Epoch 47/100, time: 5.22s, Loss: 0.0358, Acc: 97.70%\n",
      "Epoch 48/100, time: 3.67s, Loss: 0.0346, Acc: 97.75%\n",
      "Epoch 49/100, time: 6.18s, Loss: 0.0330, Acc: 97.62%\n",
      "Epoch 50/100, time: 3.72s, Loss: 0.0324, Acc: 97.88%\n",
      "Epoch 51/100, time: 3.98s, Loss: 0.0310, Acc: 97.92%\n",
      "Epoch 52/100, time: 6.96s, Loss: 0.0301, Acc: 97.90%\n",
      "Epoch 53/100, time: 3.73s, Loss: 0.0290, Acc: 97.83%\n",
      "Epoch 54/100, time: 3.70s, Loss: 0.0279, Acc: 97.93%\n",
      "Epoch 55/100, time: 6.17s, Loss: 0.0271, Acc: 97.82%\n",
      "Epoch 56/100, time: 3.79s, Loss: 0.0263, Acc: 97.88%\n",
      "Epoch 57/100, time: 3.55s, Loss: 0.0251, Acc: 97.89%\n",
      "Epoch 58/100, time: 5.83s, Loss: 0.0244, Acc: 97.88%\n",
      "Epoch 59/100, time: 4.74s, Loss: 0.0235, Acc: 97.77%\n",
      "Epoch 60/100, time: 3.88s, Loss: 0.0228, Acc: 97.95%\n",
      "Epoch 61/100, time: 5.60s, Loss: 0.0219, Acc: 97.96%\n",
      "Epoch 62/100, time: 3.69s, Loss: 0.0212, Acc: 97.95%\n",
      "Epoch 63/100, time: 3.98s, Loss: 0.0204, Acc: 97.85%\n",
      "Epoch 64/100, time: 3.90s, Loss: 0.0198, Acc: 97.94%\n",
      "Epoch 65/100, time: 3.66s, Loss: 0.0191, Acc: 97.97%\n",
      "Epoch 66/100, time: 4.87s, Loss: 0.0186, Acc: 97.88%\n",
      "Epoch 67/100, time: 5.47s, Loss: 0.0178, Acc: 98.00%\n",
      "Epoch 68/100, time: 3.56s, Loss: 0.0172, Acc: 97.93%\n",
      "Epoch 69/100, time: 4.13s, Loss: 0.0166, Acc: 97.90%\n",
      "Epoch 70/100, time: 6.48s, Loss: 0.0161, Acc: 97.90%\n",
      "Epoch 71/100, time: 3.62s, Loss: 0.0156, Acc: 97.94%\n",
      "Epoch 72/100, time: 5.83s, Loss: 0.0152, Acc: 97.96%\n",
      "Epoch 73/100, time: 4.40s, Loss: 0.0146, Acc: 97.96%\n",
      "Epoch 74/100, time: 6.01s, Loss: 0.0140, Acc: 97.95%\n",
      "Epoch 75/100, time: 3.93s, Loss: 0.0137, Acc: 97.96%\n",
      "Epoch 76/100, time: 3.87s, Loss: 0.0132, Acc: 98.02%\n",
      "Epoch 77/100, time: 3.57s, Loss: 0.0128, Acc: 97.91%\n",
      "Epoch 78/100, time: 3.68s, Loss: 0.0125, Acc: 97.86%\n",
      "Epoch 79/100, time: 5.81s, Loss: 0.0120, Acc: 97.93%\n",
      "Epoch 80/100, time: 3.73s, Loss: 0.0116, Acc: 97.96%\n",
      "Epoch 81/100, time: 3.91s, Loss: 0.0113, Acc: 97.91%\n",
      "Epoch 82/100, time: 4.35s, Loss: 0.0109, Acc: 97.93%\n",
      "Epoch 83/100, time: 4.93s, Loss: 0.0106, Acc: 97.93%\n",
      "Epoch 84/100, time: 6.03s, Loss: 0.0104, Acc: 97.92%\n",
      "Epoch 85/100, time: 3.59s, Loss: 0.0100, Acc: 97.93%\n",
      "Epoch 86/100, time: 3.63s, Loss: 0.0097, Acc: 97.94%\n",
      "Epoch 87/100, time: 3.56s, Loss: 0.0094, Acc: 97.91%\n",
      "Epoch 88/100, time: 5.48s, Loss: 0.0091, Acc: 97.86%\n",
      "Epoch 89/100, time: 4.56s, Loss: 0.0089, Acc: 97.97%\n",
      "Epoch 90/100, time: 4.67s, Loss: 0.0086, Acc: 97.89%\n",
      "Epoch 91/100, time: 4.41s, Loss: 0.0084, Acc: 97.94%\n",
      "Epoch 92/100, time: 3.70s, Loss: 0.0082, Acc: 97.93%\n",
      "Epoch 93/100, time: 3.83s, Loss: 0.0079, Acc: 97.87%\n",
      "Epoch 94/100, time: 3.88s, Loss: 0.0077, Acc: 97.94%\n",
      "Epoch 95/100, time: 5.51s, Loss: 0.0075, Acc: 97.90%\n",
      "Epoch 96/100, time: 4.54s, Loss: 0.0073, Acc: 97.91%\n",
      "Epoch 97/100, time: 5.84s, Loss: 0.0071, Acc: 97.88%\n",
      "Epoch 98/100, time: 3.65s, Loss: 0.0069, Acc: 97.92%\n",
      "Epoch 99/100, time: 4.39s, Loss: 0.0067, Acc: 97.88%\n",
      "Epoch 100/100, time: 6.51s, Loss: 0.0066, Acc: 97.94%\n",
      "\n",
      "Ran All Epochs\n"
     ]
    }
   ],
   "source": [
    "parameters, Costs = mini_batch_gradient_descent(train_x, train_y, test_x, test_y, parameters.copy(), learning_rate=0.23)"
   ]
  },
  {
   "cell_type": "markdown",
   "id": "70b7d684",
   "metadata": {},
   "source": [
    "### Discussion for 6(b):-\n",
    "\n",
    "This line is where the magic happens - it's where the training of the neural network takes place!\n",
    "\n",
    "Here's a breakdown:\n",
    "\n",
    "- `mini_batch_gradient_descent(train_x, train_y, test_x, test_y, parameters.copy(), learning_rate=0.23)`: This is the function call to `mini_batch_gradient_descent`, which is the function we discussed earlier that trains the neural network using the mini-batch gradient descent algorithm. It takes several arguments:\n",
    "    - `train_x` and `train_y`: These are the training data and their corresponding labels.\n",
    "    - `test_x` and `test_y`: These are the test data and their corresponding labels. They are used to evaluate the performance of the model after each epoch.\n",
    "    - `parameters.copy()`: This is a copy of the initial parameters of the network. We pass a copy because we don't want to modify the original parameters directly.\n",
    "    - `learning_rate=0.23`: This is the learning rate used in the gradient descent algorithm. It controls the size of the steps taken in the parameter space towards the minimum of the loss function.\n",
    "\n",
    "- `parameters, Costs = ...`: The function returns two values:\n",
    "    - `parameters`: These are the updated parameters of the network after training. They can be used to make predictions on new data.\n",
    "    - `Costs`: This is an array that contains the loss for each epoch during training. It can be used to monitor the progress of the training process.\n",
    "\n",
    "So, in essence, this line of code is training the neural network on the training data, evaluating its performance on the test data after each epoch, and storing the final parameters and the history of losses. After this line, we're all set with a trained model ready to make predictions! "
   ]
  },
  {
   "cell_type": "markdown",
   "id": "ef5fd11a",
   "metadata": {},
   "source": [
    "### Step 7(a): Use your trained neural network to predict the labels of the test dataset and compute the accuracy on the test dataset.\n",
    "\n",
    "After training our neural network model using the mini_batch_gradient_descent function, you can use the trained parameters to predict the labels of the test dataset. The feed_forward function can be used to get the model’s output probabilities for the test dataset. Then, we can convert these probabilities to class labels by taking the index of the maximum probability for each sample. The accuracy of the model can be calculated by comparing these predicted labels with the true labels. Here’s how you can do it:"
   ]
  },
  {
   "cell_type": "code",
   "execution_count": 16,
   "id": "ccabee58",
   "metadata": {},
   "outputs": [
    {
     "name": "stdout",
     "output_type": "stream",
     "text": [
      "Accuracy on the test dataset: 97.94%\n"
     ]
    }
   ],
   "source": [
    "# Predict the labels of the test dataset\n",
    "test_pred, _ = feed_forward(test_x, parameters)\n",
    "\n",
    "# Convert probabilities to class labels\n",
    "test_pred_labels = np.argmax(test_pred, axis=1)\n",
    "test_true_labels = np.argmax(test_y, axis=1)\n",
    "\n",
    "# Calculate accuracy\n",
    "accuracy = np.mean(test_pred_labels == test_true_labels)\n",
    "print(f\"Accuracy on the test dataset: {accuracy*100:.2f}%\")"
   ]
  },
  {
   "cell_type": "markdown",
   "id": "242538bf",
   "metadata": {},
   "source": [
    "### Discussion for 7(a):-\n",
    "\n",
    "This is where we put our trained neural network to the test!\n",
    "\n",
    "Here's a breakdown:\n",
    "\n",
    "1. **Predict the labels of the test dataset**: The `feed_forward` function is called with the test data (`test_x`) and the trained parameters (`parameters`). The output of the network (`test_pred`) is a probability distribution over the classes for each test sample.\n",
    "\n",
    "2. **Convert probabilities to class labels**: The predicted class labels (`test_pred_labels`) are obtained by taking the index of the maximum value along axis 1 (i.e., the row axis) of `test_pred`. This is because the output of the network is a probability distribution over the classes, and the class with the highest probability is taken as the predicted class. The true class labels (`test_true_labels`) are obtained in the same way from `test_y`.\n",
    "\n",
    "3. **Calculate accuracy**: The accuracy of the model's predictions is calculated by comparing the predicted labels with the true labels and calculating the mean of the comparisons. This gives the proportion of correct predictions, which is the accuracy of the model.\n",
    "\n",
    "4. **Print accuracy**: The accuracy on the test dataset is then printed. This gives us an idea of how well our model is likely to perform on new, unseen data.\n",
    "\n",
    "So, in essence, this part of the code is evaluating the performance of our trained model on the test dataset. It's like the final exam for our model after all its hard work during training! And the accuracy is the final score, telling us how well our model has learned to classify new data."
   ]
  },
  {
   "cell_type": "markdown",
   "id": "8e4f2eb0",
   "metadata": {},
   "source": [
    "### Step 7(b): Plot some of the misclassified images with their predicted and true labels.\n",
    "\n",
    "To gain insights into why certain images are misclassified, you can visualize these images along with their true and predicted labels. First, you need to find the indices of the misclassified images. Then, you can randomly select a few of these images to plot. Here’s how you can do it:"
   ]
  },
  {
   "cell_type": "code",
   "execution_count": 18,
   "id": "fc4f037b",
   "metadata": {},
   "outputs": [
    {
     "data": {
      "image/png": "[encoded data removed]",
      "text/plain": [
       "<Figure size 1000x1000 with 5 Axes>"
      ]
     },
     "metadata": {},
     "output_type": "display_data"
    }
   ],
   "source": [
    "# Find the indices of the misclassified images\n",
    "misclassified_indices = np.where(test_pred_labels != test_true_labels)[0]\n",
    "\n",
    "# Randomly select a few of these images\n",
    "num_images_to_show = 5\n",
    "selected_indices = np.random.choice(misclassified_indices, num_images_to_show, replace=False)\n",
    "\n",
    "# Plot the selected images with their predicted and true labels\n",
    "plt.figure(figsize=(10, 10))  # Adjusting figure size for bigger images\n",
    "for i, idx in enumerate(selected_indices):\n",
    "    plt.subplot(num_images_to_show, 1, i+1)  # Changed to display images on separate lines\n",
    "    plt.imshow(test_x[idx].reshape(28, 28), cmap='gray')\n",
    "    plt.title(f\"True: {test_true_labels[idx]}, Pred: {test_pred_labels[idx]}\")\n",
    "plt.tight_layout()\n",
    "plt.show()"
   ]
  },
  {
   "cell_type": "markdown",
   "id": "ebddbc69",
   "metadata": {},
   "source": [
    "### Discussion for 7(b):-\n",
    "\n",
    "This is where we take a closer look at where our model went wrong by examining some of the misclassified images.\n",
    "\n",
    "Here's a breakdown:\n",
    "\n",
    "1. **Find the indices of the misclassified images**: The `np.where` function is used to find the indices where the predicted labels (`test_pred_labels`) do not match the true labels (`test_true_labels`). These indices are stored in the `misclassified_indices` variable.\n",
    "\n",
    "2. **Randomly select a few of these images**: The `np.random.choice` function is used to randomly select a specified number (`num_images_to_show`) of these misclassified indices without replacement (`replace=False`). These selected indices are stored in the `selected_indices` variable.\n",
    "\n",
    "3. **Plot the selected images with their predicted and true labels**: A loop is then used to plot each of the selected images along with their predicted and true labels. For each selected index, the corresponding image is reshaped to its original 2D shape (28x28 pixels) and displayed in grayscale (`cmap='gray'`). The title of the plot shows the true and predicted labels for the image.\n",
    "\n",
    "4. **Display the plots**: Finally, `plt.show()` is called to display the plots. This gives us a visual insight into the types of images that the model is having trouble with, which can be useful for improving the model.\n",
    "\n",
    "In essence, this segment of the code serves as an analytical tool, scrutinizing instances of misclassification. It provides valuable insights into the areas where the model falls short, thereby guiding us towards potential improvements in its predictive capabilities."
   ]
  },
  {
   "cell_type": "markdown",
   "id": "dea05dd4",
   "metadata": {},
   "source": [
    "## Conclusive Reflections - Final Discussion\n",
    "\n",
    "- We began our journey with **Data Preparation**, ensuring our data was normalized and appropriately encoded, setting the stage for the subsequent steps.\n",
    "- We then moved on to **Model Initialization**, carefully initializing the parameters of our network, setting up the weights and biases for each layer.\n",
    "- Once our network was set up, we dove into the **Training Process**. This began with the forward propagation step, followed by the calculation of the loss using the categorical cross-entropy function.\n",
    "- The **Backward Propagation** step followed, where we calculated the gradients of the loss with respect to the parameters, allowing our network to learn from its errors and improve its predictions.\n",
    "- We then updated the parameters of our network using the **Mini-Batch Gradient Descent Algorithm**. This iterative process adjusted the parameters in the direction that minimized the loss, gradually improving the performance of our network.\n",
    "- Finally, we evaluated the performance of our trained model on the test dataset in the **Model Evaluation** step. We calculated the accuracy of the model's predictions and examined some of the misclassified images to gain insights into the model's performance.\n",
    "\n",
    "While the project was initially submitted before the deadline, my curiosity and drive for accuracy led me to invest additional time to further refine the model. Despite facing some system challenges and delays, I believe my perseverance paid off, resulting in improved accuracy.\n",
    "\n",
    "In conclusion, this project served as a comprehensive exercise in understanding and implementing a neural network for a classification task. Each step offered its own set of challenges and learnings. Despite the hurdles, the end result was a well-performing model and a deeper understanding of neural networks. Thank you!"
   ]
  }
 ],
 "metadata": {
  "kernelspec": {
   "display_name": "Python 3 (ipykernel)",
   "language": "python",
   "name": "python3"
  },
  "language_info": {
   "codemirror_mode": {
    "name": "ipython",
    "version": 3
   },
   "file_extension": ".py",
   "mimetype": "text/x-python",
   "name": "python",
   "nbconvert_exporter": "python",
   "pygments_lexer": "ipython3",
   "version": "3.11.4"
  }
 },
 "nbformat": 4,
 "nbformat_minor": 5
}
